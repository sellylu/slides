{
 "cells": [
  {
   "cell_type": "markdown",
   "metadata": {
    "slideshow": {
     "slide_type": "slide"
    }
   },
   "source": [
    "![tensorflow](images/keras-logo.png \"Keras\")\n",
    "\n",
    "# Keras Installation\n",
    "\n",
    "2018/09/26 Selly"
   ]
  },
  {
   "cell_type": "markdown",
   "metadata": {
    "slideshow": {
     "slide_type": "slide"
    }
   },
   "source": [
    "# What is <a href=\"https://keras.io\">Keras</a>?\n",
    "\n",
    "- A high-level neural network API\n",
    "- Written in Python\n",
    "- On top of <a href=\"https://www.tensorflow.org\">TensorFlow</a>, CNTK, Theano\n",
    "- Easy for beginner"
   ]
  },
  {
   "cell_type": "markdown",
   "metadata": {
    "slideshow": {
     "slide_type": "slide"
    }
   },
   "source": [
    "# Prerequisite\n",
    "\n",
    "![tensorflow](images/tensorflow-logo.png \"TensorFlow\")\n"
   ]
  },
  {
   "cell_type": "markdown",
   "metadata": {
    "cell_style": "split",
    "slideshow": {
     "slide_type": "fragment"
    }
   },
   "source": [
    "## CPU (recommend)"
   ]
  },
  {
   "cell_type": "markdown",
   "metadata": {
    "cell_style": "split",
    "slideshow": {
     "slide_type": "fragment"
    }
   },
   "source": [
    "## GPU"
   ]
  },
  {
   "cell_type": "markdown",
   "metadata": {
    "cell_style": "center",
    "slideshow": {
     "slide_type": "subslide"
    }
   },
   "source": [
    "# tensorflow-gpu version 1.8\n",
    "\n",
    "1. Check your GPU compatibility: <https://developer.nvidia.com/cuda-gpus/>\n",
    "2. Install following NVIDIA® software with <b>Correct Version</b>:\n",
    "    1. <a href=\"https://www.nvidia.com/Download/index.aspx?lang=en-us/\">NVIDIA® GPU driver</a>  >= 384.x\n",
    "    2. <a href=\"https://developer.nvidia.com/cuda-downloads/\">CUDA Toolkit</a>  v9.0    (This may take some time)\n",
    "    \n",
    "        1. If you have driver installed, skip it in this step.\n",
    "        2. Add following directories to `%PATH%`\n",
    "    \n",
    "            `C:\\Program Files\\NVIDIA GPU Computing Toolkit\\CUDA\\v9.0\\bin`\n",
    "            \n",
    "            `C:\\Program Files\\NVIDIA GPU Computing Toolkit\\CUDA\\v9.0\\extras\\CUPTI\\libx64`\n",
    "\n",
    "    3. <a href=\"https://developer.nvidia.com/rdp/cudnn-archive/\">cuDNN SKD</a>  v7.1.x for CUDA 9.0\n",
    "    \n",
    "    Copy files within to `C:\\ProgramData\\NVIDIA GPU Computing Toolkit\\v9.0` according to directory\n",
    "    \n",
    "2. Open cmd as admin and Install tensorflow-gpu by `pip install tensorflow-gpu==1.8`"
   ]
  },
  {
   "cell_type": "markdown",
   "metadata": {
    "slideshow": {
     "slide_type": "subslide"
    }
   },
   "source": [
    "# tensorflow-cpu version 1.8\n",
    "\n",
    "### Install by `pip install tensorflow==1.8`"
   ]
  },
  {
   "cell_type": "markdown",
   "metadata": {
    "slideshow": {
     "slide_type": "fragment"
    }
   },
   "source": [
    "## Check installation"
   ]
  },
  {
   "cell_type": "code",
   "execution_count": 1,
   "metadata": {
    "slideshow": {
     "slide_type": "fragment"
    }
   },
   "outputs": [
    {
     "name": "stdout",
     "output_type": "stream",
     "text": [
      "b'Hello World'\n"
     ]
    }
   ],
   "source": [
    "import tensorflow as tf\n",
    "with tf.Session() as sess:\n",
    "    hello = tf.constant(\"Hello World\")\n",
    "    print(sess.run(hello))"
   ]
  },
  {
   "cell_type": "markdown",
   "metadata": {
    "slideshow": {
     "slide_type": "slide"
    }
   },
   "source": [
    "# Keras\n",
    "\n",
    "### Install by `pip install keras`"
   ]
  },
  {
   "cell_type": "markdown",
   "metadata": {
    "slideshow": {
     "slide_type": "fragment"
    }
   },
   "source": [
    "## Check installation"
   ]
  },
  {
   "cell_type": "code",
   "execution_count": 2,
   "metadata": {
    "slideshow": {
     "slide_type": "fragment"
    }
   },
   "outputs": [
    {
     "name": "stderr",
     "output_type": "stream",
     "text": [
      "Using TensorFlow backend.\n"
     ]
    }
   ],
   "source": [
    "import keras"
   ]
  },
  {
   "cell_type": "code",
   "execution_count": 3,
   "metadata": {
    "slideshow": {
     "slide_type": "subslide"
    }
   },
   "outputs": [
    {
     "name": "stdout",
     "output_type": "stream",
     "text": [
      "Epoch 1/10\n",
      "404/404 [==============================] - 0s 554us/step - loss: 1157.7243\n",
      "Epoch 2/10\n",
      "404/404 [==============================] - 0s 215us/step - loss: 283.7180\n",
      "Epoch 3/10\n",
      "404/404 [==============================] - 0s 229us/step - loss: 123.2729\n",
      "Epoch 4/10\n",
      "404/404 [==============================] - 0s 212us/step - loss: 76.1472\n",
      "Epoch 5/10\n",
      "404/404 [==============================] - 0s 211us/step - loss: 64.0890\n",
      "Epoch 6/10\n",
      "404/404 [==============================] - 0s 210us/step - loss: 57.8725\n",
      "Epoch 7/10\n",
      "404/404 [==============================] - 0s 218us/step - loss: 58.6963\n",
      "Epoch 8/10\n",
      "404/404 [==============================] - 0s 206us/step - loss: 54.0666\n",
      "Epoch 9/10\n",
      "404/404 [==============================] - 0s 216us/step - loss: 50.9554\n",
      "Epoch 10/10\n",
      "404/404 [==============================] - 0s 283us/step - loss: 48.5998\n",
      "102/102 [==============================] - 0s 316us/step\n",
      "Testing mse: 50.6693977468154\n"
     ]
    }
   ],
   "source": [
    "from keras.datasets import boston_housing\n",
    "\n",
    "(x_train, y_train), (x_test, y_test) = boston_housing.load_data()\n",
    "\n",
    "from keras.models import Sequential\n",
    "from keras.layers import Dense\n",
    "from keras.optimizers import Adam\n",
    "\n",
    "batch_size=4\n",
    "\n",
    "model = Sequential()\n",
    "model.add(Dense(units=20, activation='relu', input_dim=x_train.shape[1]))\n",
    "model.add(Dense(units=1))\n",
    "\n",
    "model.compile(loss='mean_squared_error', optimizer='adam')\n",
    "\n",
    "model.fit(x_train, y_train, epochs=10, batch_size=batch_size)\n",
    "\n",
    "print(\"Testing mse: {}\".format(model.evaluate(x_test, y_test, batch_size=batch_size)))\n",
    "classes = model.predict(x_test, batch_size=batch_size)"
   ]
  }
 ],
 "metadata": {
  "celltoolbar": "Slideshow",
  "kernelspec": {
   "display_name": "Python 3",
   "language": "python",
   "name": "python3"
  },
  "language_info": {
   "codemirror_mode": {
    "name": "ipython",
    "version": 3
   },
   "file_extension": ".py",
   "mimetype": "text/x-python",
   "name": "python",
   "nbconvert_exporter": "python",
   "pygments_lexer": "ipython3",
   "version": "3.6.5"
  }
 },
 "nbformat": 4,
 "nbformat_minor": 2
}

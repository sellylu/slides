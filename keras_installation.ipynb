{
 "cells": [
  {
   "cell_type": "markdown",
   "metadata": {
    "slideshow": {
     "slide_type": "slide"
    }
   },
   "source": [
    "# Keras Installation\n",
    "\n",
    "2018/09/26 Selly"
   ]
  },
  {
   "cell_type": "markdown",
   "metadata": {
    "slideshow": {
     "slide_type": "slide"
    }
   },
   "source": [
    "# Prerequisite\n",
    "\n",
    "![tensorflow](images/tensorflow-logo.png \"TensorFlow\")\n"
   ]
  },
  {
   "cell_type": "markdown",
   "metadata": {
    "cell_style": "split",
    "slideshow": {
     "slide_type": "fragment"
    }
   },
   "source": [
    "## CPU (recommend)"
   ]
  },
  {
   "cell_type": "markdown",
   "metadata": {
    "cell_style": "split",
    "slideshow": {
     "slide_type": "fragment"
    }
   },
   "source": [
    "## GPU"
   ]
  },
  {
   "cell_type": "markdown",
   "metadata": {
    "cell_style": "center",
    "slideshow": {
     "slide_type": "slide"
    }
   },
   "source": [
    "# tensorflow-gpu version 1.8\n",
    "\n",
    "1. Check your GPU compatibility: <https://developer.nvidia.com/cuda-gpus/>\n",
    "2. Install following NVIDIA® software with <b>Correct Version</b>:\n",
    "    1. <a href=\"https://www.nvidia.com/Download/index.aspx?lang=en-us/\">NVIDIA® GPU driver</a>  >= 384.x\n",
    "    2. <a href=\"https://developer.nvidia.com/cuda-downloads/\">CUDA Toolkit</a>  v9.0    (This may take some time)\n",
    "    \n",
    "        1. If you have driver installed, skip it in this step.\n",
    "        2. Add following directories to `%PATH%`\n",
    "    \n",
    "            `C:\\Program Files\\NVIDIA GPU Computing Toolkit\\CUDA\\v9.0\\bin`\n",
    "            \n",
    "            `C:\\Program Files\\NVIDIA GPU Computing Toolkit\\CUDA\\v9.0\\extras\\CUPTI\\libx64`\n",
    "\n",
    "    \n",
    "    3. <a href=\"https://developer.nvidia.com/rdp/cudnn-archive/\">cuDNN SKD</a>  v7.1.x for CUDA 9.0\n",
    "    \n",
    "    Copy files within to `C:\\ProgramData\\NVIDIA GPU Computing Toolkit\\v9.0` according to directory\n",
    "2. Open cmd as admin and Install tensorflow-gpu by `pip install tensorflow-gpu==1.8`"
   ]
  },
  {
   "cell_type": "markdown",
   "metadata": {
    "slideshow": {
     "slide_type": "slide"
    }
   },
   "source": [
    "# tensorflow-cpu version 1.8\n",
    "\n",
    "### Install by `pip install tensorflow==1.8`"
   ]
  },
  {
   "cell_type": "markdown",
   "metadata": {
    "slideshow": {
     "slide_type": "fragment"
    }
   },
   "source": [
    "# Keras\n",
    "\n",
    "### Install by `pip install keras`"
   ]
  }
 ],
 "metadata": {
  "celltoolbar": "Slideshow",
  "kernelspec": {
   "display_name": "Python 3",
   "language": "python",
   "name": "python3"
  },
  "language_info": {
   "codemirror_mode": {
    "name": "ipython",
    "version": 3
   },
   "file_extension": ".py",
   "mimetype": "text/x-python",
   "name": "python",
   "nbconvert_exporter": "python",
   "pygments_lexer": "ipython3",
   "version": "3.6.5"
  }
 },
 "nbformat": 4,
 "nbformat_minor": 2
}

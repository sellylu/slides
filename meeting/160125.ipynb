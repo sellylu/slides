{
 "cells": [
  {
   "cell_type": "markdown",
   "metadata": {
    "slideshow": {
     "slide_type": "slide"
    }
   },
   "source": [
    "# Warm Up Quiz\n",
    "## VCS Lab Special Project\n",
    "電機工程學系　102061152　呂志娟"
   ]
  },
  {
   "cell_type": "markdown",
   "metadata": {
    "slideshow": {
     "slide_type": "slide"
    }
   },
   "source": [
    "# 0. Basic Investigation\n"
   ]
  },
  {
   "cell_type": "markdown",
   "metadata": {
    "slideshow": {
     "slide_type": "subslide"
    }
   },
   "source": [
    "### Q2 是否修過“計算機程式設計、訊號與系統、線性代數、邏輯設計” ?\n",
    "Grades are listed below:\n",
    "\n",
    "|Subject                     |Grade |\n",
    "|----------------------------|:----:|\n",
    "|Introduction to Programming |A+    |\n",
    "|Signals and Systems         |B     |\n",
    "|Linear Algebra              |B+    |\n",
    "|Logical Design              |A-    |"
   ]
  },
  {
   "cell_type": "markdown",
   "metadata": {
    "slideshow": {
     "slide_type": "subslide"
    }
   },
   "source": [
    "### Q3 是否有攝影、改圖、玩photoshop(or之類的軟體)的經驗?\n",
    "有使用photoshop、illustrator等繪圖軟體的經驗。\n",
    "大一大二在個活動中做過數次美工相關股長，宣傳照修圖、表演節目冊等都做過。"
   ]
  },
  {
   "cell_type": "markdown",
   "metadata": {
    "slideshow": {
     "slide_type": "subslide"
    }
   },
   "source": [
    "### Q4 預期一周能夠花幾個小時在這個專題上呢(in hours)?\n",
    "雖然不曉得多少時間才算夠或多，不過我以之前做project所費時間來看的話，估計一個禮拜中4-5天耗費2小時"
   ]
  },
  {
   "cell_type": "markdown",
   "metadata": {
    "slideshow": {
     "slide_type": "slide"
    }
   },
   "source": [
    "# 1. 數位照片的形成\n",
    "![Alt text](img/pinhole.png)"
   ]
  },
  {
   "cell_type": "markdown",
   "metadata": {
    "slideshow": {
     "slide_type": "subslide"
    }
   },
   "source": [
    "### Q1.  我想要拍攝一個高150公尺，寬150公尺的建築物那麼我應該距離多遠拍攝才能恰巧將建築物拍進照片裡呢?\n",
    "![Alt text](img/1-1.png)\n",
    "$$\\frac{5}{2}=\\frac{x}{150}$$\n",
    "<br>\n",
    "$$x=375$$"
   ]
  },
  {
   "cell_type": "markdown",
   "metadata": {
    "slideshow": {
     "slide_type": "subslide"
    }
   },
   "source": [
    "### Q2. 現在假設你只有4MB的儲存空間可以用來存一張照片，你會怎麼設計你的感光元件來存照片呢(不考慮壓縮)? \n"
   ]
  },
  {
   "cell_type": "markdown",
   "metadata": {
    "slideshow": {
     "slide_type": "subslide"
    }
   },
   "source": [
    "### Q3. 假設建築物上有週期性排放的窗戶，長寬0.05公尺，間隔0.05公尺你覺得依照你在Q2中設計的感光元件能夠從照片中分辨出這些窗戶嗎?\n"
   ]
  },
  {
   "cell_type": "markdown",
   "metadata": {
    "slideshow": {
     "slide_type": "subslide"
    }
   },
   "source": [
    "### Q4. 假設建築物上窗戶的顏色是縱向漸層的，並且有1500種亮度變化，你覺得依照你在Q2中設計的感光元件能夠從照片中分辨出這些窗戶的亮度差異嗎?"
   ]
  },
  {
   "cell_type": "markdown",
   "metadata": {
    "slideshow": {
     "slide_type": "subslide"
    }
   },
   "source": [
    "### Q5.  現在給你個機會重新設計感光元件，你會怎麼做，考量是什麼? 他能夠滿足Q3/Q4中的要求嗎?\n"
   ]
  },
  {
   "cell_type": "markdown",
   "metadata": {
    "slideshow": {
     "slide_type": "subslide"
    }
   },
   "source": [
    "### Q6.  很倒楣的，在感光元件上累積電壓的過程中，除了光線造成的電子外，還會受到環境雜訊的影響，他所造成的影響可以想成每秒加入[-1V~1V]隨機出現的且平均為零的電壓，如果是你的話，你會怎麼處理這個問題呢?\n"
   ]
  },
  {
   "cell_type": "markdown",
   "metadata": {
    "slideshow": {
     "slide_type": "slide"
    }
   },
   "source": [
    "# 2. 變動照片"
   ]
  },
  {
   "cell_type": "markdown",
   "metadata": {
    "slideshow": {
     "slide_type": "subslide"
    }
   },
   "source": [
    "### Q1. 照片中每個點的位置可以用一個數組$[x, y]^T$來表示，如果我現在需要將照片旋轉45度，並且向右平移3.5，那麼我應該怎麼做呢? (可以用方程式、矩陣運算…任何能夠表達清楚的方式來描述新的位置$[x', y']^T$與原先位置的關係)\n"
   ]
  },
  {
   "cell_type": "markdown",
   "metadata": {
    "slideshow": {
     "slide_type": "fragment"
    }
   },
   "source": [
    "$$\n",
    "\\begin{bmatrix} x' \\\\ y' \\end{bmatrix}\n",
    "=\n",
    "\\begin{bmatrix} \\cos\\theta & -\\sin\\theta \\\\ \\sin\\theta & \\cos\\theta \\end{bmatrix}\n",
    "\\begin{bmatrix} x \\\\ y \\end{bmatrix}\\,\\,\\,\\,,\\,\\theta=45^{\\circ}$$\n",
    "<br>\n",
    "$$\n",
    "\\begin{bmatrix} x' \\\\ y' \\end{bmatrix}\n",
    "=\n",
    "\\begin{bmatrix} x'+3.5 \\\\ y' \\end{bmatrix}\n",
    "$$"
   ]
  },
  {
   "cell_type": "markdown",
   "metadata": {
    "slideshow": {
     "slide_type": "subslide"
    }
   },
   "source": [
    "### Q2. 由於很不幸的我們念電機系，我們所看到的是數位照片，照片中每個點的位置只能用整數(actually fixed point)表示，那麼你在Q1中描述的公式還能夠使用嗎? 不論可以或不行都請敘述原因，如果不行的話，請說明需要怎麼變動(不一定要以Q1中的關係式表達，只要說清楚需要的變動就好)\n"
   ]
  },
  {
   "cell_type": "markdown",
   "metadata": {
    "slideshow": {
     "slide_type": "fragment"
    }
   },
   "source": [
    "The formula in Q1 can no longer be applied because we have $\\cos{45^{\\circ}}=\\frac{\\sqrt{2}}{2}\\approx0.707$ and horizontal movement 3.5, which resulted in calculation beyond integer(fixed point).\n",
    "要準確旋轉45度或是平移3.5應是不可能的，姑且不論旋轉，平移3.5即出現了小數運算，所以我們只能將它四捨五入取得最相近的點；對於旋轉的話，則可以同樣道理，但是如果出現iteration碰到已經有對應點的座標時，則要改變捨去為進位或者反向操作，以獲得完整圖形旋轉。"
   ]
  },
  {
   "cell_type": "markdown",
   "metadata": {
    "slideshow": {
     "slide_type": "slide"
    }
   },
   "source": [
    "# 3. Signal Edge Detection\n",
    "![Alt text](img/signal-edge.png)\n",
    "- 給定一段如上的離散訊號，我們想要找出訊號中突然變化的時間點n，請設計一個演算法(一個程序)，把訊號中突然變化的時間點n自動的偵測出來<注意，連續斜坡中的點不算是突然變化>\n",
    "- 請用C/C++實現出你所設計的演算法，他至少需要能夠讀取並處理測資xn.dat以及下題的yn.dat，並輸出所有突然變化點的n值"
   ]
  },
  {
   "cell_type": "markdown",
   "metadata": {
    "slideshow": {
     "slide_type": "subslide"
    }
   },
   "source": [
    "方法如下，當資料讀入後將之存在一個vector中，要找signal edge時就iterate過所有點，判斷是否和前後相同，當前者相同、後者不同或反向的情況，即是我們所要的signal edges<br>\n",
    "![Alt text](img/result.png)"
   ]
  },
  {
   "cell_type": "markdown",
   "metadata": {
    "slideshow": {
     "slide_type": "fragment"
    }
   },
   "source": [
    "```\n",
    "void findEdge(vector<double> f) {\n",
    "    cout << \"Start Find Signal Edge:\" << endl;\n",
    "    for(int i = 1; i < f.size()-1; i++) {\n",
    "        if(f[i] == f[i-1] && f[i] != f[i+1])\n",
    "            cout << i << \" \";\n",
    "        if(f[i] != f[i-1] && f[i] == f[i+1])\n",
    "            cout << i << \" \";\n",
    "    }\n",
    "    cout << endl << \"End Find Signal Edge\" << endl;\n",
    "}\n",
    "```"
   ]
  },
  {
   "cell_type": "markdown",
   "metadata": {
    "slideshow": {
     "slide_type": "slide"
    }
   },
   "source": [
    "# 4. Linear Convolution\n",
    "\n",
    "$$𝐿𝑖𝑛𝑒𝑎𝑟 𝐶𝑜𝑛𝑣𝑜𝑙𝑢𝑡𝑖𝑜𝑛: 𝑦[𝑛]=𝑥[𝑛]\\otimesℎ[𝑛]$$\n",
    "- 在訊號與系統中，有教到convolution，請用C/C++實現一個程式處理兩個訊號(x[n],h[n])做convolution，並且輸出成yn.dat<br>\n",
    "- y[n]與x[n]長得很相近，但是卻有不同的性質，利用第三題中的程式處理y[n]，並且試著分析y[n]與x[n]兩者的差異，以及造成這個差異的原因\n"
   ]
  },
  {
   "cell_type": "markdown",
   "metadata": {
    "slideshow": {
     "slide_type": "subslide"
    }
   },
   "source": [
    "convolution的定義為$y[n] = x[n]\\otimes h[n] = \\sum\\limits_{k=-\\infty}^\\infty x[k]h[n-k] $<br><br>\n",
    "For finite sequences x[n] with M values and h[n] with N values:<br>\n",
    "$y[n]=\\sum\\limits_{k=0 }^{N }x(n+k)h(N-1-k)\\,\\,\\,\\forall\\,\\,n = 0 ... M+N-2$"
   ]
  },
  {
   "cell_type": "markdown",
   "metadata": {
    "collapsed": true,
    "slideshow": {
     "slide_type": "fragment"
    }
   },
   "source": [
    "```\n",
    "void conv() {\n",
    "    int const N  = xn.size() + hn.size() - 1;\n",
    "    for(int i = 0; i < N; i++) {\n",
    "        int const jmn = (i >= hn.size() - 1)? i - (hn.size() - 1) : 0;\n",
    "        int const jmx = (i <  xn.size() - 1)? i : xn.size() - 1;\n",
    "        double tmp = 0;\n",
    "        for(int j = jmn; j <= jmx; j++ )\n",
    "            tmp += (xn[j] * hn[i - j]);\n",
    "        yn.push_back(tmp);\n",
    "    }\n",
    "}\n",
    "```"
   ]
  },
  {
   "cell_type": "markdown",
   "metadata": {
    "slideshow": {
     "slide_type": "subslide"
    }
   },
   "source": [
    "透過c++ code的運算(下圖為執行結果)，以及下方python matplotlib的繪圖，我們可以發現xn原本是一個會有大幅度變動的資料，也就是signal edge很鮮明，當我們將他和hn(triangular function)做convolution後得到yn，yn的signal edge和xn的所描繪的區塊基本上沒有太大差異，只是從圖形上可以發現yn的資料邊沒那麼陡了，而是顯得平滑些\n",
    "![Alt text](img/result.png)"
   ]
  },
  {
   "cell_type": "code",
   "execution_count": 15,
   "metadata": {
    "collapsed": false,
    "slideshow": {
     "slide_type": "skip"
    }
   },
   "outputs": [
    {
     "data": {
      "application/javascript": [
       "/* Put everything inside the global mpl namespace */\n",
       "window.mpl = {};\n",
       "\n",
       "mpl.get_websocket_type = function() {\n",
       "    if (typeof(WebSocket) !== 'undefined') {\n",
       "        return WebSocket;\n",
       "    } else if (typeof(MozWebSocket) !== 'undefined') {\n",
       "        return MozWebSocket;\n",
       "    } else {\n",
       "        alert('Your browser does not have WebSocket support.' +\n",
       "              'Please try Chrome, Safari or Firefox ≥ 6. ' +\n",
       "              'Firefox 4 and 5 are also supported but you ' +\n",
       "              'have to enable WebSockets in about:config.');\n",
       "    };\n",
       "}\n",
       "\n",
       "mpl.figure = function(figure_id, websocket, ondownload, parent_element) {\n",
       "    this.id = figure_id;\n",
       "\n",
       "    this.ws = websocket;\n",
       "\n",
       "    this.supports_binary = (this.ws.binaryType != undefined);\n",
       "\n",
       "    if (!this.supports_binary) {\n",
       "        var warnings = document.getElementById(\"mpl-warnings\");\n",
       "        if (warnings) {\n",
       "            warnings.style.display = 'block';\n",
       "            warnings.textContent = (\n",
       "                \"This browser does not support binary websocket messages. \" +\n",
       "                    \"Performance may be slow.\");\n",
       "        }\n",
       "    }\n",
       "\n",
       "    this.imageObj = new Image();\n",
       "\n",
       "    this.context = undefined;\n",
       "    this.message = undefined;\n",
       "    this.canvas = undefined;\n",
       "    this.rubberband_canvas = undefined;\n",
       "    this.rubberband_context = undefined;\n",
       "    this.format_dropdown = undefined;\n",
       "\n",
       "    this.image_mode = 'full';\n",
       "\n",
       "    this.root = $('<div/>');\n",
       "    this._root_extra_style(this.root)\n",
       "    this.root.attr('style', 'display: inline-block');\n",
       "\n",
       "    $(parent_element).append(this.root);\n",
       "\n",
       "    this._init_header(this);\n",
       "    this._init_canvas(this);\n",
       "    this._init_toolbar(this);\n",
       "\n",
       "    var fig = this;\n",
       "\n",
       "    this.waiting = false;\n",
       "\n",
       "    this.ws.onopen =  function () {\n",
       "            fig.send_message(\"supports_binary\", {value: fig.supports_binary});\n",
       "            fig.send_message(\"send_image_mode\", {});\n",
       "            fig.send_message(\"refresh\", {});\n",
       "        }\n",
       "\n",
       "    this.imageObj.onload = function() {\n",
       "            if (fig.image_mode == 'full') {\n",
       "                // Full images could contain transparency (where diff images\n",
       "                // almost always do), so we need to clear the canvas so that\n",
       "                // there is no ghosting.\n",
       "                fig.context.clearRect(0, 0, fig.canvas.width, fig.canvas.height);\n",
       "            }\n",
       "            fig.context.drawImage(fig.imageObj, 0, 0);\n",
       "        };\n",
       "\n",
       "    this.imageObj.onunload = function() {\n",
       "        this.ws.close();\n",
       "    }\n",
       "\n",
       "    this.ws.onmessage = this._make_on_message_function(this);\n",
       "\n",
       "    this.ondownload = ondownload;\n",
       "}\n",
       "\n",
       "mpl.figure.prototype._init_header = function() {\n",
       "    var titlebar = $(\n",
       "        '<div class=\"ui-dialog-titlebar ui-widget-header ui-corner-all ' +\n",
       "        'ui-helper-clearfix\"/>');\n",
       "    var titletext = $(\n",
       "        '<div class=\"ui-dialog-title\" style=\"width: 100%; ' +\n",
       "        'text-align: center; padding: 3px;\"/>');\n",
       "    titlebar.append(titletext)\n",
       "    this.root.append(titlebar);\n",
       "    this.header = titletext[0];\n",
       "}\n",
       "\n",
       "\n",
       "\n",
       "mpl.figure.prototype._canvas_extra_style = function(canvas_div) {\n",
       "\n",
       "}\n",
       "\n",
       "\n",
       "mpl.figure.prototype._root_extra_style = function(canvas_div) {\n",
       "\n",
       "}\n",
       "\n",
       "mpl.figure.prototype._init_canvas = function() {\n",
       "    var fig = this;\n",
       "\n",
       "    var canvas_div = $('<div/>');\n",
       "\n",
       "    canvas_div.attr('style', 'position: relative; clear: both; outline: 0');\n",
       "\n",
       "    function canvas_keyboard_event(event) {\n",
       "        return fig.key_event(event, event['data']);\n",
       "    }\n",
       "\n",
       "    canvas_div.keydown('key_press', canvas_keyboard_event);\n",
       "    canvas_div.keyup('key_release', canvas_keyboard_event);\n",
       "    this.canvas_div = canvas_div\n",
       "    this._canvas_extra_style(canvas_div)\n",
       "    this.root.append(canvas_div);\n",
       "\n",
       "    var canvas = $('<canvas/>');\n",
       "    canvas.addClass('mpl-canvas');\n",
       "    canvas.attr('style', \"left: 0; top: 0; z-index: 0; outline: 0\")\n",
       "\n",
       "    this.canvas = canvas[0];\n",
       "    this.context = canvas[0].getContext(\"2d\");\n",
       "\n",
       "    var rubberband = $('<canvas/>');\n",
       "    rubberband.attr('style', \"position: absolute; left: 0; top: 0; z-index: 1;\")\n",
       "\n",
       "    var pass_mouse_events = true;\n",
       "\n",
       "    canvas_div.resizable({\n",
       "        start: function(event, ui) {\n",
       "            pass_mouse_events = false;\n",
       "        },\n",
       "        resize: function(event, ui) {\n",
       "            fig.request_resize(ui.size.width, ui.size.height);\n",
       "        },\n",
       "        stop: function(event, ui) {\n",
       "            pass_mouse_events = true;\n",
       "            fig.request_resize(ui.size.width, ui.size.height);\n",
       "        },\n",
       "    });\n",
       "\n",
       "    function mouse_event_fn(event) {\n",
       "        if (pass_mouse_events)\n",
       "            return fig.mouse_event(event, event['data']);\n",
       "    }\n",
       "\n",
       "    rubberband.mousedown('button_press', mouse_event_fn);\n",
       "    rubberband.mouseup('button_release', mouse_event_fn);\n",
       "    // Throttle sequential mouse events to 1 every 20ms.\n",
       "    rubberband.mousemove('motion_notify', mouse_event_fn);\n",
       "\n",
       "    rubberband.mouseenter('figure_enter', mouse_event_fn);\n",
       "    rubberband.mouseleave('figure_leave', mouse_event_fn);\n",
       "\n",
       "    canvas_div.on(\"wheel\", function (event) {\n",
       "        event = event.originalEvent;\n",
       "        event['data'] = 'scroll'\n",
       "        if (event.deltaY < 0) {\n",
       "            event.step = 1;\n",
       "        } else {\n",
       "            event.step = -1;\n",
       "        }\n",
       "        mouse_event_fn(event);\n",
       "    });\n",
       "\n",
       "    canvas_div.append(canvas);\n",
       "    canvas_div.append(rubberband);\n",
       "\n",
       "    this.rubberband = rubberband;\n",
       "    this.rubberband_canvas = rubberband[0];\n",
       "    this.rubberband_context = rubberband[0].getContext(\"2d\");\n",
       "    this.rubberband_context.strokeStyle = \"#000000\";\n",
       "\n",
       "    this._resize_canvas = function(width, height) {\n",
       "        // Keep the size of the canvas, canvas container, and rubber band\n",
       "        // canvas in synch.\n",
       "        canvas_div.css('width', width)\n",
       "        canvas_div.css('height', height)\n",
       "\n",
       "        canvas.attr('width', width);\n",
       "        canvas.attr('height', height);\n",
       "\n",
       "        rubberband.attr('width', width);\n",
       "        rubberband.attr('height', height);\n",
       "    }\n",
       "\n",
       "    // Set the figure to an initial 600x600px, this will subsequently be updated\n",
       "    // upon first draw.\n",
       "    this._resize_canvas(600, 600);\n",
       "\n",
       "    // Disable right mouse context menu.\n",
       "    $(this.rubberband_canvas).bind(\"contextmenu\",function(e){\n",
       "        return false;\n",
       "    });\n",
       "\n",
       "    function set_focus () {\n",
       "        canvas.focus();\n",
       "        canvas_div.focus();\n",
       "    }\n",
       "\n",
       "    window.setTimeout(set_focus, 100);\n",
       "}\n",
       "\n",
       "mpl.figure.prototype._init_toolbar = function() {\n",
       "    var fig = this;\n",
       "\n",
       "    var nav_element = $('<div/>')\n",
       "    nav_element.attr('style', 'width: 100%');\n",
       "    this.root.append(nav_element);\n",
       "\n",
       "    // Define a callback function for later on.\n",
       "    function toolbar_event(event) {\n",
       "        return fig.toolbar_button_onclick(event['data']);\n",
       "    }\n",
       "    function toolbar_mouse_event(event) {\n",
       "        return fig.toolbar_button_onmouseover(event['data']);\n",
       "    }\n",
       "\n",
       "    for(var toolbar_ind in mpl.toolbar_items) {\n",
       "        var name = mpl.toolbar_items[toolbar_ind][0];\n",
       "        var tooltip = mpl.toolbar_items[toolbar_ind][1];\n",
       "        var image = mpl.toolbar_items[toolbar_ind][2];\n",
       "        var method_name = mpl.toolbar_items[toolbar_ind][3];\n",
       "\n",
       "        if (!name) {\n",
       "            // put a spacer in here.\n",
       "            continue;\n",
       "        }\n",
       "        var button = $('<button/>');\n",
       "        button.addClass('ui-button ui-widget ui-state-default ui-corner-all ' +\n",
       "                        'ui-button-icon-only');\n",
       "        button.attr('role', 'button');\n",
       "        button.attr('aria-disabled', 'false');\n",
       "        button.click(method_name, toolbar_event);\n",
       "        button.mouseover(tooltip, toolbar_mouse_event);\n",
       "\n",
       "        var icon_img = $('<span/>');\n",
       "        icon_img.addClass('ui-button-icon-primary ui-icon');\n",
       "        icon_img.addClass(image);\n",
       "        icon_img.addClass('ui-corner-all');\n",
       "\n",
       "        var tooltip_span = $('<span/>');\n",
       "        tooltip_span.addClass('ui-button-text');\n",
       "        tooltip_span.html(tooltip);\n",
       "\n",
       "        button.append(icon_img);\n",
       "        button.append(tooltip_span);\n",
       "\n",
       "        nav_element.append(button);\n",
       "    }\n",
       "\n",
       "    var fmt_picker_span = $('<span/>');\n",
       "\n",
       "    var fmt_picker = $('<select/>');\n",
       "    fmt_picker.addClass('mpl-toolbar-option ui-widget ui-widget-content');\n",
       "    fmt_picker_span.append(fmt_picker);\n",
       "    nav_element.append(fmt_picker_span);\n",
       "    this.format_dropdown = fmt_picker[0];\n",
       "\n",
       "    for (var ind in mpl.extensions) {\n",
       "        var fmt = mpl.extensions[ind];\n",
       "        var option = $(\n",
       "            '<option/>', {selected: fmt === mpl.default_extension}).html(fmt);\n",
       "        fmt_picker.append(option)\n",
       "    }\n",
       "\n",
       "    // Add hover states to the ui-buttons\n",
       "    $( \".ui-button\" ).hover(\n",
       "        function() { $(this).addClass(\"ui-state-hover\");},\n",
       "        function() { $(this).removeClass(\"ui-state-hover\");}\n",
       "    );\n",
       "\n",
       "    var status_bar = $('<span class=\"mpl-message\"/>');\n",
       "    nav_element.append(status_bar);\n",
       "    this.message = status_bar[0];\n",
       "}\n",
       "\n",
       "mpl.figure.prototype.request_resize = function(x_pixels, y_pixels) {\n",
       "    // Request matplotlib to resize the figure. Matplotlib will then trigger a resize in the client,\n",
       "    // which will in turn request a refresh of the image.\n",
       "    this.send_message('resize', {'width': x_pixels, 'height': y_pixels});\n",
       "}\n",
       "\n",
       "mpl.figure.prototype.send_message = function(type, properties) {\n",
       "    properties['type'] = type;\n",
       "    properties['figure_id'] = this.id;\n",
       "    this.ws.send(JSON.stringify(properties));\n",
       "}\n",
       "\n",
       "mpl.figure.prototype.send_draw_message = function() {\n",
       "    if (!this.waiting) {\n",
       "        this.waiting = true;\n",
       "        this.ws.send(JSON.stringify({type: \"draw\", figure_id: this.id}));\n",
       "    }\n",
       "}\n",
       "\n",
       "\n",
       "mpl.figure.prototype.handle_save = function(fig, msg) {\n",
       "    var format_dropdown = fig.format_dropdown;\n",
       "    var format = format_dropdown.options[format_dropdown.selectedIndex].value;\n",
       "    fig.ondownload(fig, format);\n",
       "}\n",
       "\n",
       "\n",
       "mpl.figure.prototype.handle_resize = function(fig, msg) {\n",
       "    var size = msg['size'];\n",
       "    if (size[0] != fig.canvas.width || size[1] != fig.canvas.height) {\n",
       "        fig._resize_canvas(size[0], size[1]);\n",
       "        fig.send_message(\"refresh\", {});\n",
       "    };\n",
       "}\n",
       "\n",
       "mpl.figure.prototype.handle_rubberband = function(fig, msg) {\n",
       "    var x0 = msg['x0'];\n",
       "    var y0 = fig.canvas.height - msg['y0'];\n",
       "    var x1 = msg['x1'];\n",
       "    var y1 = fig.canvas.height - msg['y1'];\n",
       "    x0 = Math.floor(x0) + 0.5;\n",
       "    y0 = Math.floor(y0) + 0.5;\n",
       "    x1 = Math.floor(x1) + 0.5;\n",
       "    y1 = Math.floor(y1) + 0.5;\n",
       "    var min_x = Math.min(x0, x1);\n",
       "    var min_y = Math.min(y0, y1);\n",
       "    var width = Math.abs(x1 - x0);\n",
       "    var height = Math.abs(y1 - y0);\n",
       "\n",
       "    fig.rubberband_context.clearRect(\n",
       "        0, 0, fig.canvas.width, fig.canvas.height);\n",
       "\n",
       "    fig.rubberband_context.strokeRect(min_x, min_y, width, height);\n",
       "}\n",
       "\n",
       "mpl.figure.prototype.handle_figure_label = function(fig, msg) {\n",
       "    // Updates the figure title.\n",
       "    fig.header.textContent = msg['label'];\n",
       "}\n",
       "\n",
       "mpl.figure.prototype.handle_cursor = function(fig, msg) {\n",
       "    var cursor = msg['cursor'];\n",
       "    switch(cursor)\n",
       "    {\n",
       "    case 0:\n",
       "        cursor = 'pointer';\n",
       "        break;\n",
       "    case 1:\n",
       "        cursor = 'default';\n",
       "        break;\n",
       "    case 2:\n",
       "        cursor = 'crosshair';\n",
       "        break;\n",
       "    case 3:\n",
       "        cursor = 'move';\n",
       "        break;\n",
       "    }\n",
       "    fig.rubberband_canvas.style.cursor = cursor;\n",
       "}\n",
       "\n",
       "mpl.figure.prototype.handle_message = function(fig, msg) {\n",
       "    fig.message.textContent = msg['message'];\n",
       "}\n",
       "\n",
       "mpl.figure.prototype.handle_draw = function(fig, msg) {\n",
       "    // Request the server to send over a new figure.\n",
       "    fig.send_draw_message();\n",
       "}\n",
       "\n",
       "mpl.figure.prototype.handle_image_mode = function(fig, msg) {\n",
       "    fig.image_mode = msg['mode'];\n",
       "}\n",
       "\n",
       "mpl.figure.prototype.updated_canvas_event = function() {\n",
       "    // Called whenever the canvas gets updated.\n",
       "    this.send_message(\"ack\", {});\n",
       "}\n",
       "\n",
       "// A function to construct a web socket function for onmessage handling.\n",
       "// Called in the figure constructor.\n",
       "mpl.figure.prototype._make_on_message_function = function(fig) {\n",
       "    return function socket_on_message(evt) {\n",
       "        if (evt.data instanceof Blob) {\n",
       "            /* FIXME: We get \"Resource interpreted as Image but\n",
       "             * transferred with MIME type text/plain:\" errors on\n",
       "             * Chrome.  But how to set the MIME type?  It doesn't seem\n",
       "             * to be part of the websocket stream */\n",
       "            evt.data.type = \"image/png\";\n",
       "\n",
       "            /* Free the memory for the previous frames */\n",
       "            if (fig.imageObj.src) {\n",
       "                (window.URL || window.webkitURL).revokeObjectURL(\n",
       "                    fig.imageObj.src);\n",
       "            }\n",
       "\n",
       "            fig.imageObj.src = (window.URL || window.webkitURL).createObjectURL(\n",
       "                evt.data);\n",
       "            fig.updated_canvas_event();\n",
       "            fig.waiting = false;\n",
       "            return;\n",
       "        }\n",
       "        else if (typeof evt.data === 'string' && evt.data.slice(0, 21) == \"data:image/png;base64\") {\n",
       "            fig.imageObj.src = evt.data;\n",
       "            fig.updated_canvas_event();\n",
       "            fig.waiting = false;\n",
       "            return;\n",
       "        }\n",
       "\n",
       "        var msg = JSON.parse(evt.data);\n",
       "        var msg_type = msg['type'];\n",
       "\n",
       "        // Call the  \"handle_{type}\" callback, which takes\n",
       "        // the figure and JSON message as its only arguments.\n",
       "        try {\n",
       "            var callback = fig[\"handle_\" + msg_type];\n",
       "        } catch (e) {\n",
       "            console.log(\"No handler for the '\" + msg_type + \"' message type: \", msg);\n",
       "            return;\n",
       "        }\n",
       "\n",
       "        if (callback) {\n",
       "            try {\n",
       "                // console.log(\"Handling '\" + msg_type + \"' message: \", msg);\n",
       "                callback(fig, msg);\n",
       "            } catch (e) {\n",
       "                console.log(\"Exception inside the 'handler_\" + msg_type + \"' callback:\", e, e.stack, msg);\n",
       "            }\n",
       "        }\n",
       "    };\n",
       "}\n",
       "\n",
       "// from http://stackoverflow.com/questions/1114465/getting-mouse-location-in-canvas\n",
       "mpl.findpos = function(e) {\n",
       "    //this section is from http://www.quirksmode.org/js/events_properties.html\n",
       "    var targ;\n",
       "    if (!e)\n",
       "        e = window.event;\n",
       "    if (e.target)\n",
       "        targ = e.target;\n",
       "    else if (e.srcElement)\n",
       "        targ = e.srcElement;\n",
       "    if (targ.nodeType == 3) // defeat Safari bug\n",
       "        targ = targ.parentNode;\n",
       "\n",
       "    // jQuery normalizes the pageX and pageY\n",
       "    // pageX,Y are the mouse positions relative to the document\n",
       "    // offset() returns the position of the element relative to the document\n",
       "    var x = e.pageX - $(targ).offset().left;\n",
       "    var y = e.pageY - $(targ).offset().top;\n",
       "\n",
       "    return {\"x\": x, \"y\": y};\n",
       "};\n",
       "\n",
       "/*\n",
       " * return a copy of an object with only non-object keys\n",
       " * we need this to avoid circular references\n",
       " * http://stackoverflow.com/a/24161582/3208463\n",
       " */\n",
       "function simpleKeys (original) {\n",
       "  return Object.keys(original).reduce(function (obj, key) {\n",
       "    if (typeof original[key] !== 'object')\n",
       "        obj[key] = original[key]\n",
       "    return obj;\n",
       "  }, {});\n",
       "}\n",
       "\n",
       "mpl.figure.prototype.mouse_event = function(event, name) {\n",
       "    var canvas_pos = mpl.findpos(event)\n",
       "\n",
       "    if (name === 'button_press')\n",
       "    {\n",
       "        this.canvas.focus();\n",
       "        this.canvas_div.focus();\n",
       "    }\n",
       "\n",
       "    var x = canvas_pos.x;\n",
       "    var y = canvas_pos.y;\n",
       "\n",
       "    this.send_message(name, {x: x, y: y, button: event.button,\n",
       "                             step: event.step,\n",
       "                             guiEvent: simpleKeys(event)});\n",
       "\n",
       "    /* This prevents the web browser from automatically changing to\n",
       "     * the text insertion cursor when the button is pressed.  We want\n",
       "     * to control all of the cursor setting manually through the\n",
       "     * 'cursor' event from matplotlib */\n",
       "    event.preventDefault();\n",
       "    return false;\n",
       "}\n",
       "\n",
       "mpl.figure.prototype._key_event_extra = function(event, name) {\n",
       "    // Handle any extra behaviour associated with a key event\n",
       "}\n",
       "\n",
       "mpl.figure.prototype.key_event = function(event, name) {\n",
       "\n",
       "    // Prevent repeat events\n",
       "    if (name == 'key_press')\n",
       "    {\n",
       "        if (event.which === this._key)\n",
       "            return;\n",
       "        else\n",
       "            this._key = event.which;\n",
       "    }\n",
       "    if (name == 'key_release')\n",
       "        this._key = null;\n",
       "\n",
       "    var value = '';\n",
       "    if (event.ctrlKey && event.which != 17)\n",
       "        value += \"ctrl+\";\n",
       "    if (event.altKey && event.which != 18)\n",
       "        value += \"alt+\";\n",
       "    if (event.shiftKey && event.which != 16)\n",
       "        value += \"shift+\";\n",
       "\n",
       "    value += 'k';\n",
       "    value += event.which.toString();\n",
       "\n",
       "    this._key_event_extra(event, name);\n",
       "\n",
       "    this.send_message(name, {key: value,\n",
       "                             guiEvent: simpleKeys(event)});\n",
       "    return false;\n",
       "}\n",
       "\n",
       "mpl.figure.prototype.toolbar_button_onclick = function(name) {\n",
       "    if (name == 'download') {\n",
       "        this.handle_save(this, null);\n",
       "    } else {\n",
       "        this.send_message(\"toolbar_button\", {name: name});\n",
       "    }\n",
       "};\n",
       "\n",
       "mpl.figure.prototype.toolbar_button_onmouseover = function(tooltip) {\n",
       "    this.message.textContent = tooltip;\n",
       "};\n",
       "mpl.toolbar_items = [[\"Home\", \"Reset original view\", \"fa fa-home icon-home\", \"home\"], [\"Back\", \"Back to  previous view\", \"fa fa-arrow-left icon-arrow-left\", \"back\"], [\"Forward\", \"Forward to next view\", \"fa fa-arrow-right icon-arrow-right\", \"forward\"], [\"\", \"\", \"\", \"\"], [\"Pan\", \"Pan axes with left mouse, zoom with right\", \"fa fa-arrows icon-move\", \"pan\"], [\"Zoom\", \"Zoom to rectangle\", \"fa fa-square-o icon-check-empty\", \"zoom\"], [\"\", \"\", \"\", \"\"], [\"Download\", \"Download plot\", \"fa fa-floppy-o icon-save\", \"download\"]];\n",
       "\n",
       "mpl.extensions = [\"eps\", \"pdf\", \"png\", \"ps\", \"raw\", \"svg\"];\n",
       "\n",
       "mpl.default_extension = \"png\";var comm_websocket_adapter = function(comm) {\n",
       "    // Create a \"websocket\"-like object which calls the given IPython comm\n",
       "    // object with the appropriate methods. Currently this is a non binary\n",
       "    // socket, so there is still some room for performance tuning.\n",
       "    var ws = {};\n",
       "\n",
       "    ws.close = function() {\n",
       "        comm.close()\n",
       "    };\n",
       "    ws.send = function(m) {\n",
       "        //console.log('sending', m);\n",
       "        comm.send(m);\n",
       "    };\n",
       "    // Register the callback with on_msg.\n",
       "    comm.on_msg(function(msg) {\n",
       "        //console.log('receiving', msg['content']['data'], msg);\n",
       "        // Pass the mpl event to the overriden (by mpl) onmessage function.\n",
       "        ws.onmessage(msg['content']['data'])\n",
       "    });\n",
       "    return ws;\n",
       "}\n",
       "\n",
       "mpl.mpl_figure_comm = function(comm, msg) {\n",
       "    // This is the function which gets called when the mpl process\n",
       "    // starts-up an IPython Comm through the \"matplotlib\" channel.\n",
       "\n",
       "    var id = msg.content.data.id;\n",
       "    // Get hold of the div created by the display call when the Comm\n",
       "    // socket was opened in Python.\n",
       "    var element = $(\"#\" + id);\n",
       "    var ws_proxy = comm_websocket_adapter(comm)\n",
       "\n",
       "    function ondownload(figure, format) {\n",
       "        window.open(figure.imageObj.src);\n",
       "    }\n",
       "\n",
       "    var fig = new mpl.figure(id, ws_proxy,\n",
       "                           ondownload,\n",
       "                           element.get(0));\n",
       "\n",
       "    // Call onopen now - mpl needs it, as it is assuming we've passed it a real\n",
       "    // web socket which is closed, not our websocket->open comm proxy.\n",
       "    ws_proxy.onopen();\n",
       "\n",
       "    fig.parent_element = element.get(0);\n",
       "    fig.cell_info = mpl.find_output_cell(\"<div id='\" + id + \"'></div>\");\n",
       "    if (!fig.cell_info) {\n",
       "        console.error(\"Failed to find cell for figure\", id, fig);\n",
       "        return;\n",
       "    }\n",
       "\n",
       "    var output_index = fig.cell_info[2]\n",
       "    var cell = fig.cell_info[0];\n",
       "\n",
       "};\n",
       "\n",
       "mpl.figure.prototype.handle_close = function(fig, msg) {\n",
       "    fig.root.unbind('remove')\n",
       "\n",
       "    // Update the output cell to use the data from the current canvas.\n",
       "    fig.push_to_output();\n",
       "    var dataURL = fig.canvas.toDataURL();\n",
       "    // Re-enable the keyboard manager in IPython - without this line, in FF,\n",
       "    // the notebook keyboard shortcuts fail.\n",
       "    IPython.keyboard_manager.enable()\n",
       "    $(fig.parent_element).html('<img src=\"' + dataURL + '\">');\n",
       "    fig.close_ws(fig, msg);\n",
       "}\n",
       "\n",
       "mpl.figure.prototype.close_ws = function(fig, msg){\n",
       "    fig.send_message('closing', msg);\n",
       "    // fig.ws.close()\n",
       "}\n",
       "\n",
       "mpl.figure.prototype.push_to_output = function(remove_interactive) {\n",
       "    // Turn the data on the canvas into data in the output cell.\n",
       "    var dataURL = this.canvas.toDataURL();\n",
       "    this.cell_info[1]['text/html'] = '<img src=\"' + dataURL + '\">';\n",
       "}\n",
       "\n",
       "mpl.figure.prototype.updated_canvas_event = function() {\n",
       "    // Tell IPython that the notebook contents must change.\n",
       "    IPython.notebook.set_dirty(true);\n",
       "    this.send_message(\"ack\", {});\n",
       "    var fig = this;\n",
       "    // Wait a second, then push the new image to the DOM so\n",
       "    // that it is saved nicely (might be nice to debounce this).\n",
       "    setTimeout(function () { fig.push_to_output() }, 1000);\n",
       "}\n",
       "\n",
       "mpl.figure.prototype._init_toolbar = function() {\n",
       "    var fig = this;\n",
       "\n",
       "    var nav_element = $('<div/>')\n",
       "    nav_element.attr('style', 'width: 100%');\n",
       "    this.root.append(nav_element);\n",
       "\n",
       "    // Define a callback function for later on.\n",
       "    function toolbar_event(event) {\n",
       "        return fig.toolbar_button_onclick(event['data']);\n",
       "    }\n",
       "    function toolbar_mouse_event(event) {\n",
       "        return fig.toolbar_button_onmouseover(event['data']);\n",
       "    }\n",
       "\n",
       "    for(var toolbar_ind in mpl.toolbar_items){\n",
       "        var name = mpl.toolbar_items[toolbar_ind][0];\n",
       "        var tooltip = mpl.toolbar_items[toolbar_ind][1];\n",
       "        var image = mpl.toolbar_items[toolbar_ind][2];\n",
       "        var method_name = mpl.toolbar_items[toolbar_ind][3];\n",
       "\n",
       "        if (!name) { continue; };\n",
       "\n",
       "        var button = $('<button class=\"btn btn-default\" href=\"#\" title=\"' + name + '\"><i class=\"fa ' + image + ' fa-lg\"></i></button>');\n",
       "        button.click(method_name, toolbar_event);\n",
       "        button.mouseover(tooltip, toolbar_mouse_event);\n",
       "        nav_element.append(button);\n",
       "    }\n",
       "\n",
       "    // Add the status bar.\n",
       "    var status_bar = $('<span class=\"mpl-message\" style=\"text-align:right; float: right;\"/>');\n",
       "    nav_element.append(status_bar);\n",
       "    this.message = status_bar[0];\n",
       "\n",
       "    // Add the close button to the window.\n",
       "    var buttongrp = $('<div class=\"btn-group inline pull-right\"></div>');\n",
       "    var button = $('<button class=\"btn btn-mini btn-primary\" href=\"#\" title=\"Stop Interaction\"><i class=\"fa fa-power-off icon-remove icon-large\"></i></button>');\n",
       "    button.click(function (evt) { fig.handle_close(fig, {}); } );\n",
       "    button.mouseover('Stop Interaction', toolbar_mouse_event);\n",
       "    buttongrp.append(button);\n",
       "    var titlebar = this.root.find($('.ui-dialog-titlebar'));\n",
       "    titlebar.prepend(buttongrp);\n",
       "}\n",
       "\n",
       "mpl.figure.prototype._root_extra_style = function(el){\n",
       "    var fig = this\n",
       "    el.on(\"remove\", function(){\n",
       "\tfig.close_ws(fig, {});\n",
       "    });\n",
       "}\n",
       "\n",
       "mpl.figure.prototype._canvas_extra_style = function(el){\n",
       "    // this is important to make the div 'focusable\n",
       "    el.attr('tabindex', 0)\n",
       "    // reach out to IPython and tell the keyboard manager to turn it's self\n",
       "    // off when our div gets focus\n",
       "\n",
       "    // location in version 3\n",
       "    if (IPython.notebook.keyboard_manager) {\n",
       "        IPython.notebook.keyboard_manager.register_events(el);\n",
       "    }\n",
       "    else {\n",
       "        // location in version 2\n",
       "        IPython.keyboard_manager.register_events(el);\n",
       "    }\n",
       "\n",
       "}\n",
       "\n",
       "mpl.figure.prototype._key_event_extra = function(event, name) {\n",
       "    var manager = IPython.notebook.keyboard_manager;\n",
       "    if (!manager)\n",
       "        manager = IPython.keyboard_manager;\n",
       "\n",
       "    // Check for shift+enter\n",
       "    if (event.shiftKey && event.which == 13) {\n",
       "        this.canvas_div.blur();\n",
       "        event.shiftKey = false;\n",
       "        // Send a \"J\" for go to next cell\n",
       "        event.which = 74;\n",
       "        event.keyCode = 74;\n",
       "        manager.command_mode();\n",
       "        manager.handle_keydown(event);\n",
       "    }\n",
       "}\n",
       "\n",
       "mpl.figure.prototype.handle_save = function(fig, msg) {\n",
       "    fig.ondownload(fig, null);\n",
       "}\n",
       "\n",
       "\n",
       "mpl.find_output_cell = function(html_output) {\n",
       "    // Return the cell and output element which can be found *uniquely* in the notebook.\n",
       "    // Note - this is a bit hacky, but it is done because the \"notebook_saving.Notebook\"\n",
       "    // IPython event is triggered only after the cells have been serialised, which for\n",
       "    // our purposes (turning an active figure into a static one), is too late.\n",
       "    var cells = IPython.notebook.get_cells();\n",
       "    var ncells = cells.length;\n",
       "    for (var i=0; i<ncells; i++) {\n",
       "        var cell = cells[i];\n",
       "        if (cell.cell_type === 'code'){\n",
       "            for (var j=0; j<cell.output_area.outputs.length; j++) {\n",
       "                var data = cell.output_area.outputs[j];\n",
       "                if (data.data) {\n",
       "                    // IPython >= 3 moved mimebundle to data attribute of output\n",
       "                    data = data.data;\n",
       "                }\n",
       "                if (data['text/html'] == html_output) {\n",
       "                    return [cell, data, j];\n",
       "                }\n",
       "            }\n",
       "        }\n",
       "    }\n",
       "}\n",
       "\n",
       "// Register the function which deals with the matplotlib target/channel.\n",
       "// The kernel may be null if the page has been refreshed.\n",
       "if (IPython.notebook.kernel != null) {\n",
       "    IPython.notebook.kernel.comm_manager.register_target('matplotlib', mpl.mpl_figure_comm);\n",
       "}\n"
      ],
      "text/plain": [
       "<IPython.core.display.Javascript object>"
      ]
     },
     "metadata": {},
     "output_type": "display_data"
    },
    {
     "data": {
      "text/html": [
       "<img src=\"data:image/png;base64,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\">"
      ],
      "text/plain": [
       "<IPython.core.display.HTML object>"
      ]
     },
     "metadata": {},
     "output_type": "display_data"
    },
    {
     "data": {
      "text/plain": [
       "[-1, 20, 0, 15]"
      ]
     },
     "execution_count": 15,
     "metadata": {},
     "output_type": "execute_result"
    }
   ],
   "source": [
    "%matplotlib notebook\n",
    "\n",
    "import matplotlib\n",
    "import numpy as np\n",
    "import matplotlib.pyplot as plt\n",
    "\n",
    "with open('xn.dat', 'r', encoding = 'utf-8') as f:\n",
    "    tmp = f.read()\n",
    "    x = tmp.split(\",\")\n",
    "    x = [int(i) for i in x]\n",
    "\n",
    "with open('hn.dat', 'r', encoding = 'utf-8') as f:\n",
    "    tmp = f.read()\n",
    "    h = tmp.split(\",\")\n",
    "    h = [float(i)*10 for i in h]\n",
    "    \n",
    "with open('yn.dat', 'r', encoding = 'utf-8') as f:\n",
    "    tmp = f.read()\n",
    "    y = tmp.split(\",\")\n",
    "    y = [int(i) for i in y]\n",
    "\n",
    "n = np.array([a for a in range(len(x))])\n",
    "t = np.array([a for a in range(len(h))])\n",
    "m = np.array([a for a in range(len(y))])\n",
    "xn = np.array(x)\n",
    "hn = np.array(h)\n",
    "yn = np.array(y)\n",
    "plt.plot(n, xn, \"o\", label=\"xn\")\n",
    "plt.plot(t, hn, \"go\", label=\"hn\")\n",
    "plt.plot(m, yn, \"rs\", label=\"yn\")\n",
    "plt.vlines(n, [0], xn)\n",
    "plt.vlines(t, [0], hn)\n",
    "plt.vlines(m, [0], yn)\n",
    "plt.legend()\n",
    "plt.axis([-1, 20, 0, 15])\n"
   ]
  }
 ],
 "metadata": {
  "celltoolbar": "Slideshow",
  "kernelspec": {
   "display_name": "Python 3",
   "language": "python",
   "name": "python3"
  },
  "language_info": {
   "codemirror_mode": {
    "name": "ipython",
    "version": 3
   },
   "file_extension": ".py",
   "mimetype": "text/x-python",
   "name": "python",
   "nbconvert_exporter": "python",
   "pygments_lexer": "ipython3",
   "version": "3.5.1"
  }
 },
 "nbformat": 4,
 "nbformat_minor": 0
}

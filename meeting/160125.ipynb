{
 "cells": [
  {
   "cell_type": "markdown",
   "metadata": {
    "slideshow": {
     "slide_type": "slide"
    }
   },
   "source": [
    "# Warm Up Quiz\n",
    "## VCS Lab Special Project\n",
    "電機工程學系　102061152　呂志娟"
   ]
  },
  {
   "cell_type": "markdown",
   "metadata": {
    "slideshow": {
     "slide_type": "slide"
    }
   },
   "source": [
    "# 0. Basic Investigation\n",
    "\n",
    "## Q2 是否修過“計算機程式設計、訊號與系統、線性代數、邏輯設計” ?\n",
    "Grades are listed below:\n",
    "<table>\n",
    "    <thead>\n",
    "        <tr>\n",
    "            <td>Subject</td>\n",
    "            <td>Grade</td>\n",
    "        </tr>\n",
    "    </thead>\n",
    "    <tbody>\n",
    "        <tr>\n",
    "            <td>Introduction toProgramming</td>\n",
    "            <td>A+</td>\n",
    "        </tr>\n",
    "        <tr>\n",
    "            <td>Signals and Systems</td>\n",
    "            <td>B</td>\n",
    "        </tr>\n",
    "        <tr>\n",
    "            <td>Linear Algebra</td>\n",
    "            <td>B+</td>\n",
    "        </tr>\n",
    "        <tr>\n",
    "            <td>Ligical Design</td>\n",
    "            <td>A-</td>\n",
    "        </tr>\n",
    "    </tbody>\n",
    "</table>"
   ]
  },
  {
   "cell_type": "markdown",
   "metadata": {
    "slideshow": {
     "slide_type": "subslide"
    }
   },
   "source": [
    "# 0. Basic Investigation\n",
    "\n",
    "## Q3 是否有攝影、改圖、玩photoshop(or之類的軟體)的經驗?\n",
    "有使用photoshop、illustrator等繪圖軟體的經驗。\n",
    "大一大二在個活動中做過數次美工相關股長，宣傳照修圖、表演節目冊等都做過。"
   ]
  },
  {
   "cell_type": "markdown",
   "metadata": {
    "slideshow": {
     "slide_type": "subslide"
    }
   },
   "source": [
    "# 0. Basic Investigation\n",
    "\n",
    "## Q4 預期一周能夠花幾個小時在這個專題上呢(in hours)?\n",
    "雖然不曉得多少時間才算夠或多，不過我以之前做project所費時間來看的話，估計一個禮拜中4-5天耗費2小時"
   ]
  }
 ],
 "metadata": {
  "celltoolbar": "Slideshow",
  "kernelspec": {
   "display_name": "Python 3",
   "language": "python",
   "name": "python3"
  },
  "language_info": {
   "codemirror_mode": {
    "name": "ipython",
    "version": 3
   },
   "file_extension": ".py",
   "mimetype": "text/x-python",
   "name": "python",
   "nbconvert_exporter": "python",
   "pygments_lexer": "ipython3",
   "version": "3.5.1"
  }
 },
 "nbformat": 4,
 "nbformat_minor": 0
}
